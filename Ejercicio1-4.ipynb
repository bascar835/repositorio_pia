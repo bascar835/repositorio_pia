{
 "cells": [
  {
   "cell_type": "code",
   "execution_count": 5,
   "metadata": {},
   "outputs": [
    {
     "name": "stdout",
     "output_type": "stream",
     "text": [
      "5 es un número primo.\n",
      "Números primos entre 3 y 20:\n",
      "3 5 7 11 13 17 19 "
     ]
    }
   ],
   "source": [
    "# Función para verificar si un número es primo\n",
    "def es_primo(n):\n",
    "    if n <= 1:\n",
    "        return False\n",
    "    for i in range(2, int(n ** 0.5) + 1):\n",
    "        if n % i == 0:\n",
    "            return False\n",
    "    return True\n",
    "\n",
    "# Parte 1: Verificar si un número es primo\n",
    "numero = int(input(\"Ingresa un número para verificar si es primo: \"))\n",
    "if es_primo(numero):\n",
    "    print(f\"{numero} es un número primo.\")\n",
    "else:\n",
    "    print(f\"{numero} no es un número primo.\")\n",
    "\n",
    "# Parte 2: Encontrar todos los números primos en un rango\n",
    "rango_inferior = int(input(\"Ingresa el límite inferior del rango: \"))\n",
    "rango_superior = int(input(\"Ingresa el límite superior del rango: \"))\n",
    "\n",
    "print(f\"Números primos entre {rango_inferior} y {rango_superior}:\")\n",
    "for num in range(rango_inferior, rango_superior + 1):\n",
    "    if es_primo(num):\n",
    "        print(num, end=\" \")\n",
    "\n"
   ]
  },
  {
   "cell_type": "code",
   "execution_count": 1,
   "metadata": {},
   "outputs": [
    {
     "name": "stdout",
     "output_type": "stream",
     "text": [
      "Elige una conversión:\n",
      "1. Metros a Kilómetros\n",
      "2. Libras a Kilogramos\n",
      "3. Celsius a Fahrenheit\n",
      "50.0 libras son 22.6796 kilogramos.\n"
     ]
    }
   ],
   "source": [
    "# Funciones para las conversiones\n",
    "def metros_a_kilometros(metros):\n",
    "    return metros / 1000\n",
    "\n",
    "def libras_a_kilogramos(libras):\n",
    "    return libras * 0.453592\n",
    "\n",
    "def celsius_a_fahrenheit(celsius):\n",
    "    return (celsius * 9/5) + 32\n",
    "\n",
    "# Menú de opciones\n",
    "print(\"Elige una conversión:\")\n",
    "print(\"1. Metros a Kilómetros\")\n",
    "print(\"2. Libras a Kilogramos\")\n",
    "print(\"3. Celsius a Fahrenheit\")\n",
    "\n",
    "# Solicitar al usuario la opción que desea realizar\n",
    "opcion = int(input(\"Ingresa el número de la opción que deseas: \"))\n",
    "\n",
    "# Realizar la conversión según la opción seleccionada\n",
    "if opcion == 1:\n",
    "    metros = float(input(\"Ingresa el valor en metros: \"))\n",
    "    resultado = metros_a_kilometros(metros)\n",
    "    print(f\"{metros} metros son {resultado} kilómetros.\")\n",
    "elif opcion == 2:\n",
    "    libras = float(input(\"Ingresa el valor en libras: \"))\n",
    "    resultado = libras_a_kilogramos(libras)\n",
    "    print(f\"{libras} libras son {resultado} kilogramos.\")\n",
    "elif opcion == 3:\n",
    "    celsius = float(input(\"Ingresa el valor en grados Celsius: \"))\n",
    "    resultado = celsius_a_fahrenheit(celsius)\n",
    "    print(f\"{celsius} grados Celsius son {resultado} grados Fahrenheit.\")\n",
    "else:\n",
    "    print(\"Opción no válida. Por favor, elige una opción del 1 al 3.\")\n"
   ]
  },
  {
   "cell_type": "code",
   "execution_count": 1,
   "metadata": {},
   "outputs": [
    {
     "name": "stdout",
     "output_type": "stream",
     "text": [
      "Tabla de multiplicar de 5:\n",
      "5 x 1 = 5\n",
      "5 x 2 = 10\n",
      "5 x 3 = 15\n",
      "5 x 4 = 20\n",
      "5 x 5 = 25\n",
      "5 x 6 = 30\n",
      "5 x 7 = 35\n",
      "5 x 8 = 40\n",
      "5 x 9 = 45\n",
      "5 x 10 = 50\n"
     ]
    }
   ],
   "source": [
    "# Solicitar al usuario un número\n",
    "numero = int(input(\"Ingresa un número para generar su tabla de multiplicar: \"))\n",
    "\n",
    "# Generar y mostrar la tabla de multiplicar del número\n",
    "print(f\"Tabla de multiplicar de {numero}:\")\n",
    "for i in range(1, 11):  # Itera de 1 a 10\n",
    "    resultado = numero * i\n",
    "    print(f\"{numero} x {i} = {resultado}\")\n"
   ]
  },
  {
   "cell_type": "code",
   "execution_count": 2,
   "metadata": {},
   "outputs": [
    {
     "name": "stdout",
     "output_type": "stream",
     "text": [
      "Tu IMC es: 28.38\n",
      "Interpretación: Sobrepeso\n"
     ]
    }
   ],
   "source": [
    "# Solicitar al usuario su peso y altura\n",
    "peso = float(input(\"Ingresa tu peso en kilogramos: \"))\n",
    "altura = float(input(\"Ingresa tu altura en metros: \"))\n",
    "\n",
    "# Calcular el IMC\n",
    "imc = peso / (altura ** 2)\n",
    "\n",
    "# Mostrar el IMC y la interpretación\n",
    "print(f\"Tu IMC es: {imc:.2f}\")\n",
    "\n",
    "# Interpretar el IMC\n",
    "if imc < 18.5:\n",
    "    print(\"Interpretación: Bajo peso\")\n",
    "elif 18.5 <= imc < 24.9:\n",
    "    print(\"Interpretación: Peso normal\")\n",
    "elif 25 <= imc < 29.9:\n",
    "    print(\"Interpretación: Sobrepeso\")\n",
    "else:\n",
    "    print(\"Interpretación: Obesidad\")\n"
   ]
  }
 ],
 "metadata": {
  "kernelspec": {
   "display_name": "mientorno",
   "language": "python",
   "name": "python3"
  },
  "language_info": {
   "codemirror_mode": {
    "name": "ipython",
    "version": 3
   },
   "file_extension": ".py",
   "mimetype": "text/x-python",
   "name": "python",
   "nbconvert_exporter": "python",
   "pygments_lexer": "ipython3",
   "version": "3.10.0"
  }
 },
 "nbformat": 4,
 "nbformat_minor": 2
}
